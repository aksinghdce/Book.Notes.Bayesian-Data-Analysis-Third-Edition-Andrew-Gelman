{
 "cells": [
  {
   "cell_type": "markdown",
   "metadata": {},
   "source": [
    "# Notes on the book : [Text In Statistical Science][Bayesian Data Analysis][Third Edition]"
   ]
  },
  {
   "cell_type": "markdown",
   "metadata": {},
   "source": [
    "![Preface 1](images/preface/001.PNG)"
   ]
  },
  {
   "cell_type": "markdown",
   "metadata": {},
   "source": [
    "- 3 roles: \n",
    "    - foundational knowledge\n",
    "    - (Graduate Level) current approaches to Bayesian modeling and computation in statitistics\n",
    "    - Handbook for practitioners of Researches and Applied Statistics"
   ]
  },
  {
   "cell_type": "markdown",
   "metadata": {},
   "source": [
    "![Preface 1](images/preface/002.PNG)"
   ]
  },
  {
   "cell_type": "markdown",
   "metadata": {},
   "source": [
    "Why?"
   ]
  },
  {
   "cell_type": "markdown",
   "metadata": {},
   "source": [
    "![Preface 1](images/preface/003.PNG)"
   ]
  },
  {
   "cell_type": "markdown",
   "metadata": {},
   "source": [
    "A great companion book is - \"A Philosophical essay on probabilities by Marquis de Laplace\""
   ]
  },
  {
   "cell_type": "markdown",
   "metadata": {},
   "source": [
    "![Preface 1](images/preface/004.PNG)"
   ]
  },
  {
   "cell_type": "markdown",
   "metadata": {},
   "source": [
    "What are:\n",
    " - Nonparametric modeling?\n",
    " - weakly informative priors?\n",
    " - boundary-avoiding priors?\n",
    " - cross-validation?\n",
    " - predictive information criteria?\n",
    " - sample size calculations?\n",
    " - iterative simulation?\n",
    " - Hamiltonian Monte Carlo?\n",
    " - variational Bayes?\n",
    " - Expectation propagation?"
   ]
  },
  {
   "cell_type": "markdown",
   "metadata": {},
   "source": [
    "![Preface 1](images/preface/005.PNG)"
   ]
  },
  {
   "cell_type": "markdown",
   "metadata": {},
   "source": [
    "There is another book for advanced topics. \"Data Analysis Using Regression and Hierarchical/Multilevel Models\" and published research articles at:"
   ]
  },
  {
   "cell_type": "markdown",
   "metadata": {},
   "source": [
    "![Preface 1](images/preface/006.PNG)"
   ]
  },
  {
   "cell_type": "markdown",
   "metadata": {},
   "source": [
    "[Articles published by the author of the book](http://www.stat.columbia.edu/~gelman/book/.)"
   ]
  }
 ],
 "metadata": {
  "kernelspec": {
   "display_name": "Python 3",
   "language": "python",
   "name": "python3"
  },
  "language_info": {
   "codemirror_mode": {
    "name": "ipython",
    "version": 3
   },
   "file_extension": ".py",
   "mimetype": "text/x-python",
   "name": "python",
   "nbconvert_exporter": "python",
   "pygments_lexer": "ipython3",
   "version": "3.6.3"
  }
 },
 "nbformat": 4,
 "nbformat_minor": 2
}
